{
 "cells": [
  {
   "cell_type": "markdown",
   "metadata": {},
   "source": [
    "###### Найти вероятность выпадения 2 или 5 очков при подбрасывании игральной кости, на гранях которой имеются соответственно 1,2,3,4,5 и 6 очков."
   ]
  },
  {
   "cell_type": "code",
   "execution_count": 4,
   "metadata": {},
   "outputs": [
    {
     "name": "stdout",
     "output_type": "stream",
     "text": [
      "0.3333333333333333\n"
     ]
    }
   ],
   "source": [
    "# вероятность, что выпадет 2 будет 1/6, то что выпадет 5 тоже 1/6\n",
    "print(1/6 + 1/6)"
   ]
  },
  {
   "cell_type": "markdown",
   "metadata": {},
   "source": [
    "###### Найти вероятность того, что при двух подбрасываниях той же самой игральной кости сначала выпадет 2, а затем 5."
   ]
  },
  {
   "cell_type": "code",
   "execution_count": 5,
   "metadata": {},
   "outputs": [
    {
     "name": "stdout",
     "output_type": "stream",
     "text": [
      "0.027777777777777776\n"
     ]
    }
   ],
   "source": [
    "# вероятность, что выпадет 2 будет 1/6, то что выпадет 5 тоже 1/6\n",
    "print(1/6 * 1/6)"
   ]
  },
  {
   "cell_type": "markdown",
   "metadata": {},
   "source": [
    "###### Найти вероятность выпадения 2 и 5 очков при двух подбрасываниях той же самой игральной игральной кости. Обратите внимание на порядок выпадения костей\n"
   ]
  },
  {
   "cell_type": "code",
   "execution_count": 6,
   "metadata": {},
   "outputs": [
    {
     "name": "stdout",
     "output_type": "stream",
     "text": [
      "0.05555555555555555\n"
     ]
    }
   ],
   "source": [
    "# тут как я понял, нам не важен порядок выпадения.\n",
    "print((1/6 * 1/6) + (1/6 * 1/6))"
   ]
  },
  {
   "cell_type": "markdown",
   "metadata": {},
   "source": [
    "###### На отрезке AB длиной 20 см наугад отметили точку C. Какова вероятность, что она находится на расстоянии не более 9 см от точки А и не более 15 см от точки В?"
   ]
  },
  {
   "cell_type": "code",
   "execution_count": 7,
   "metadata": {},
   "outputs": [
    {
     "name": "stdout",
     "output_type": "stream",
     "text": [
      "0.2\n"
     ]
    }
   ],
   "source": [
    "# мы начертим рисунок поймем, что нас просят найти вероятность, что точка будет находиться в промежутке от 5 до 9 на прямой AB\n",
    "print(4/20)"
   ]
  },
  {
   "cell_type": "markdown",
   "metadata": {},
   "source": [
    "###### Телефонный номер состоит из 7 цифр. Какова вероятность,  что это номер 8882227?"
   ]
  },
  {
   "cell_type": "code",
   "execution_count": 8,
   "metadata": {},
   "outputs": [
    {
     "name": "stdout",
     "output_type": "stream",
     "text": [
      "1.1111111111111111e-07\n"
     ]
    }
   ],
   "source": [
    "array_number = 9 * 10**6 # это множество все номеров, при условии что номер начинается не с 0\n",
    "print(1 / array_number)"
   ]
  },
  {
   "cell_type": "markdown",
   "metadata": {},
   "source": [
    "###### Набирая номер телефона, абонент забыл 2 последние цифры, и, помня только то, что эти цифры различны и среди них нет нуля, стал набирать их наудачу. Сколько вариантов ему надо перебрать, чтобы наверняка найти нужный номер? Какова вероятность того, что он угадает номер с первого раза"
   ]
  },
  {
   "cell_type": "code",
   "execution_count": 9,
   "metadata": {},
   "outputs": [
    {
     "name": "stdout",
     "output_type": "stream",
     "text": [
      "всего вариантов перебрать 72\n",
      " вероятность 0.013888888888888888\n"
     ]
    }
   ],
   "source": [
    "array_number = 9 * 8\n",
    "print(f\"всего вариантов перебрать {array_number}\\n вероятность {1/array_number}\")"
   ]
  },
  {
   "cell_type": "markdown",
   "metadata": {},
   "source": [
    "###### Чёрный куб покрасили снаружи белой краской, затем разрезали на 27 одинаковых маленьких кубиков и как попало сложили из них большой куб. С какой вероятностью  все грани этого куба будут белыми?"
   ]
  },
  {
   "cell_type": "code",
   "execution_count": 17,
   "metadata": {},
   "outputs": [
    {
     "name": "stdout",
     "output_type": "stream",
     "text": [
      "120\n",
      "20.0\n"
     ]
    }
   ],
   "source": [
    "def fac (n):\n",
    "    answer = 1\n",
    "    while n :\n",
    "        answer *= n\n",
    "        n -= 1\n",
    "    return answer\n"
   ]
  },
  {
   "cell_type": "code",
   "execution_count": 24,
   "metadata": {},
   "outputs": [
    {
     "name": "stdout",
     "output_type": "stream",
     "text": [
      "3.842590784847149e-36\n"
     ]
    }
   ],
   "source": [
    "# 8 кубов - 3 стороны белые \n",
    "# 12 кубов - 2 стороны белые \n",
    "# 6 кубов - 1 сторона белая \n",
    "# 1 куб - полностью черный\n",
    "# разместить 24 способами\n",
    "p_1_cube = 1 / 27\n",
    "p_6_cube = ((1 / 6)**6) * (fac(6) * fac (21) / fac(26))\n",
    "p_12_cube = ((1/12)**12) *(fac(12) * fac (8) / fac(20))\n",
    "p_8_cube = (1/8)** 8 \n",
    "print(p_12_cube * p_1_cube * p_6_cube * p_8_cube)\n"
   ]
  }
 ],
 "metadata": {
  "kernelspec": {
   "display_name": "Python 3.8.0 64-bit",
   "language": "python",
   "name": "python3"
  },
  "language_info": {
   "codemirror_mode": {
    "name": "ipython",
    "version": 3
   },
   "file_extension": ".py",
   "mimetype": "text/x-python",
   "name": "python",
   "nbconvert_exporter": "python",
   "pygments_lexer": "ipython3",
   "version": "3.8.0"
  },
  "orig_nbformat": 4,
  "vscode": {
   "interpreter": {
    "hash": "ad4bf8143754bfa6670ba229c4a8148f6c3f3153769e4a372ccb212fbfc38077"
   }
  }
 },
 "nbformat": 4,
 "nbformat_minor": 2
}
