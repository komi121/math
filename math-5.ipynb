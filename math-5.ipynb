{
 "cells": [
  {
   "cell_type": "code",
   "execution_count": 1,
   "metadata": {},
   "outputs": [],
   "source": [
    "import numpy as np\n",
    "import matplotlib.pyplot as plt\n",
    "import itertools"
   ]
  },
  {
   "cell_type": "markdown",
   "metadata": {},
   "source": [
    "#### Напишите код, моделирующий выпадение поля в рулетке (с учетом поля зеро)"
   ]
  },
  {
   "cell_type": "code",
   "execution_count": 9,
   "metadata": {},
   "outputs": [
    {
     "name": "stdout",
     "output_type": "stream",
     "text": [
      "red  16\n",
      "red  5\n",
      "red  36\n",
      "black  10\n",
      "red  12\n",
      "black  28\n",
      "black  24\n",
      "red  36\n",
      "red  9\n",
      "red  1\n"
     ]
    }
   ],
   "source": [
    "red = [32, 19, 21, 25, 34, 27, 36, 30, 23, 5, 16, 1, 14, 9, 18, 7, 12, 3]\n",
    "black = [15, 4, 2, 17, 6, 13, 11, 8, 10, 24, 33, 20, 31, 22, 29, 28, 35, 26]\n",
    "color = \"\"\n",
    "for n in range(10):\n",
    "    a = input()\n",
    "    num = np.random.randint(0, 36 + 1)\n",
    "    if num == 0:\n",
    "        color = \"green\"\n",
    "    elif num in red:\n",
    "        color = 'red'\n",
    "    elif num in black:\n",
    "        color = 'black'\n",
    "    else:\n",
    "        color = \"сломалась машина\"\n",
    "    print(f'{color}  {num}')\n",
    "       "
   ]
  },
  {
   "cell_type": "markdown",
   "metadata": {},
   "source": [
    "#### Напишите код, проверяющий любую из теорем сложения или умножения вероятности на примере рулетки или подбрасывания монетки."
   ]
  },
  {
   "cell_type": "code",
   "execution_count": 20,
   "metadata": {},
   "outputs": [
    {
     "name": "stdout",
     "output_type": "stream",
     "text": [
      "теоритерическая вероятность, что за одну иттерацию выпадет и красное и черное равна 0.47333820306793284 \n",
      "на практике вероятность равна 0.472 \n"
     ]
    }
   ],
   "source": [
    "red = [32, 19, 21, 25, 34, 27, 36, 30, 23, 5, 16, 1, 14, 9, 18, 7, 12, 3]\n",
    "black = [15, 4, 2, 17, 6, 13, 11, 8, 10, 24, 33, 20, 31, 22, 29, 28, 35, 26]\n",
    "pi_teor = (1/37 * 18)*(1/37 * 18) + (1/37 * 18)*(1/37 * 18) # вероятность, что выпадет и красное и черное за одну иттерацию\n",
    "# и нам не важно, в каком броске какой цвет будет\n",
    "k = 0\n",
    "for n in range(1000):\n",
    "    num = np.random.randint(0, 36 + 1)\n",
    "    num1 = np.random.randint(0, 36 + 1)\n",
    "    flag = False\n",
    "    if num in red:\n",
    "            if num1 in black:\n",
    "                flag = True\n",
    "    elif num in black:\n",
    "            if num1 in red:\n",
    "                flag = True\n",
    "    k += flag\n",
    "pi_prak = k /1000\n",
    "print(f\"теоритерическая вероятность, что за одну иттерацию выпадет и красное и черное равна {pi_teor} \")\n",
    "print(f\"на практике вероятность равна {pi_prak} \")"
   ]
  },
  {
   "cell_type": "markdown",
   "metadata": {},
   "source": [
    "#### Сгенерируйте десять выборок случайных чисел х0, …, х9. и постройте гистограмму распределения случайной суммы  +х0+ …+ х 9."
   ]
  },
  {
   "cell_type": "code",
   "execution_count": 34,
   "metadata": {},
   "outputs": [
    {
     "data": {
      "text/plain": [
       "Text(0.5, 1.0, 'Histogram')"
      ]
     },
     "execution_count": 34,
     "metadata": {},
     "output_type": "execute_result"
    },
    {
     "data": {
      "image/png": "[encoded data removed]",
      "text/plain": [
       "<Figure size 432x288 with 1 Axes>"
      ]
     },
     "metadata": {
      "needs_background": "light"
     },
     "output_type": "display_data"
    }
   ],
   "source": [
    "allsums = []\n",
    "num_bins = 9\n",
    "for n in range(1775):\n",
    "    num = np.random.randint(1,10)\n",
    "    allsums.append(num)\n",
    "n, bins, patches = plt.hist(allsums, num_bins)\n",
    "plt.xlabel('x')\n",
    "plt.ylabel('Probability')\n",
    "plt.title('Histogram')     \n"
   ]
  },
  {
   "cell_type": "markdown",
   "metadata": {},
   "source": [
    "#### Дополните код Монте-Карло последовательности независимых испытаний расчетом соответствующих вероятностей (через биномиальное распределение)  и сравните результаты"
   ]
  },
  {
   "cell_type": "code",
   "execution_count": 39,
   "metadata": {},
   "outputs": [
    {
     "name": "stdout",
     "output_type": "stream",
     "text": [
      "371 1000 0.371 0.375\n"
     ]
    }
   ],
   "source": [
    "def fact ( n):\n",
    "    answer = 1\n",
    "    for number in range(1,n+1):\n",
    "        answer *= number\n",
    "    return answer\n",
    "\n",
    "number_exp = 4\n",
    "number_win = 2\n",
    "k, n = 0, 1000\n",
    "\n",
    "a = np.random.randint(0, 2, n)\n",
    "b = np.random.randint(0, 2, n)\n",
    "c = np.random.randint(0, 2, n)\n",
    "d = np.random.randint(0, 2, n)\n",
    "x = a + b + c + d\n",
    "for i in range(0, n):\n",
    "    if x[i] == 2:\n",
    "        k = k + 1\n",
    "v= fact(number_exp)/(fact(number_win)* fact(number_exp-number_win)) * (0.5**number_win) * (0.5 ** (number_exp-number_win))\n",
    "print(k, n, k/n,v)"
   ]
  },
  {
   "cell_type": "markdown",
   "metadata": {},
   "source": [
    "#### Повторите расчеты биномиальных коэффициентов и вероятностей k успехов в последовательности из n независимых испытаний, взяв другие значения n и k."
   ]
  },
  {
   "cell_type": "code",
   "execution_count": 61,
   "metadata": {},
   "outputs": [
    {
     "name": "stdout",
     "output_type": "stream",
     "text": [
      "53 1000 0.053 0.06921177515459398\n"
     ]
    }
   ],
   "source": [
    "number_exp = 53\n",
    "number_win = 23\n",
    "k, n = 0, 1000\n",
    "list_exp = []\n",
    "list_sum_win = []\n",
    "\n",
    "for index in range(number_exp):\n",
    "    temp = np.random.randint(0, 2, n)\n",
    "    list_exp.append(temp)\n",
    "    temp =[]\n",
    "\n",
    "\n",
    "for index in range(n):\n",
    "    sum = 0\n",
    "    for exp in list_exp:\n",
    "        sum += exp[index]\n",
    "    list_sum_win.append(sum)\n",
    "\n",
    "\n",
    "for i in range(0, n):\n",
    "    if list_sum_win[i] == number_win:\n",
    "        k = k + 1\n",
    "\n",
    "v= fact(number_exp)/(fact(number_win)* fact(number_exp-number_win)) * (0.5**number_win) * (0.5 ** (number_exp-number_win))\n",
    "print(k, n, k/n,v)"
   ]
  },
  {
   "cell_type": "markdown",
   "metadata": {},
   "source": [
    "#### Из урока по комбинаторике повторите расчеты, сгенерировав возможные варианты перестановок для других значений n и k"
   ]
  },
  {
   "cell_type": "markdown",
   "metadata": {},
   "source": [
    "###### перестановка"
   ]
  },
  {
   "cell_type": "code",
   "execution_count": 73,
   "metadata": {},
   "outputs": [
    {
     "name": "stdout",
     "output_type": "stream",
     "text": [
      "0 1 2\n",
      "0 2 1\n",
      "1 0 2\n",
      "1 2 0\n",
      "2 0 1\n",
      "2 1 0\n",
      "6\n"
     ]
    }
   ],
   "source": [
    "n = 3\n",
    "for p in itertools.permutations(range(n), n):\n",
    "    print(\" \".join(str(x) for x in p))\n",
    "print(fact(n))"
   ]
  },
  {
   "cell_type": "markdown",
   "metadata": {},
   "source": [
    "###### размещение"
   ]
  },
  {
   "cell_type": "code",
   "execution_count": 86,
   "metadata": {},
   "outputs": [
    {
     "name": "stdout",
     "output_type": "stream",
     "text": [
      "0 1\n",
      "0 2\n",
      "1 0\n",
      "1 2\n",
      "2 0\n",
      "2 1\n",
      "6\n"
     ]
    }
   ],
   "source": [
    "n = 3\n",
    "k = 2\n",
    "for p in itertools.permutations(range(n), k):\n",
    "    print(\" \".join(str(x) for x in p))\n",
    "print(int(fact(n)/ (fact(n -k))))"
   ]
  },
  {
   "cell_type": "markdown",
   "metadata": {},
   "source": [
    "###### сочетание"
   ]
  },
  {
   "cell_type": "code",
   "execution_count": 94,
   "metadata": {},
   "outputs": [
    {
     "name": "stdout",
     "output_type": "stream",
     "text": [
      "0 1 2\n",
      "0 1 3\n",
      "0 1 4\n",
      "0 2 3\n",
      "0 2 4\n",
      "0 3 4\n",
      "1 2 3\n",
      "1 2 4\n",
      "1 3 4\n",
      "2 3 4\n",
      "10\n"
     ]
    }
   ],
   "source": [
    "n = 5\n",
    "k = 3\n",
    "for p in itertools.combinations(range(n), k):\n",
    "    print(\" \".join(str(x) for x in p))\n",
    "print(int(fact(n)/(fact(k)* fact(n-k))))"
   ]
  },
  {
   "cell_type": "markdown",
   "metadata": {},
   "source": [
    "#### Дополните код расчетом коэффициента корреляции x и y по формуле"
   ]
  },
  {
   "cell_type": "code",
   "execution_count": 11,
   "metadata": {},
   "outputs": [
    {
     "name": "stdout",
     "output_type": "stream",
     "text": [
      "[[1.         0.99387522]\n",
      " [0.99387522 1.        ]]\n",
      "0.9938752180054926\n"
     ]
    },
    {
     "data": {
      "image/png": "[encoded data removed]",
      "text/plain": [
       "<Figure size 432x288 with 1 Axes>"
      ]
     },
     "metadata": {
      "needs_background": "light"
     },
     "output_type": "display_data"
    }
   ],
   "source": [
    "n = 100\n",
    "r = 0.9\n",
    "x = np.random.rand(n)\n",
    "y = r*x + (1 - r)*np.random.rand(n)\n",
    "plt.plot(x, y, 'o')\n",
    "plt.xlabel('x')\n",
    "plt.ylabel('y')\n",
    "plt.grid(True)\n",
    "print(np.corrcoef(x, y))\n",
    "\n",
    "x_m = np.sum(x) / n\n",
    "y_m = np.sum(y) / n\n",
    "r = np.sum((x - x_m)*(y - y_m)) / (np.sum((x - x_m)**2) * np.sum((y - y_m)**2))**0.5\n",
    "print(r)\n"
   ]
  }
 ],
 "metadata": {
  "kernelspec": {
   "display_name": "Python 3.8.0 64-bit",
   "language": "python",
   "name": "python3"
  },
  "language_info": {
   "codemirror_mode": {
    "name": "ipython",
    "version": 3
   },
   "file_extension": ".py",
   "mimetype": "text/x-python",
   "name": "python",
   "nbconvert_exporter": "python",
   "pygments_lexer": "ipython3",
   "version": "3.8.0"
  },
  "orig_nbformat": 4,
  "vscode": {
   "interpreter": {
    "hash": "ad4bf8143754bfa6670ba229c4a8148f6c3f3153769e4a372ccb212fbfc38077"
   }
  }
 },
 "nbformat": 4,
 "nbformat_minor": 2
}
